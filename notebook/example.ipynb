{
 "cells": [
  {
   "cell_type": "code",
   "execution_count": 2,
   "metadata": {},
   "outputs": [],
   "source": [
    "import pandas as pd\n",
    "import os,sys"
   ]
  },
  {
   "cell_type": "code",
   "execution_count": 3,
   "metadata": {},
   "outputs": [],
   "source": [
    "from collections import namedtuple"
   ]
  },
  {
   "cell_type": "code",
   "execution_count": 4,
   "metadata": {},
   "outputs": [],
   "source": [
    "DataIngestionConfig=namedtuple(\"DataIngestionConfig\",[\"dataset_download_url\",\"tgz_download_url\",\"raw_data_dir\",\"ingested_train_dir\",\"ingested_test_dir\"])"
   ]
  },
  {
   "cell_type": "code",
   "execution_count": 5,
   "metadata": {},
   "outputs": [],
   "source": [
    "import yaml"
   ]
  },
  {
   "cell_type": "code",
   "execution_count": 6,
   "metadata": {},
   "outputs": [],
   "source": [
    "import os"
   ]
  },
  {
   "cell_type": "code",
   "execution_count": 7,
   "metadata": {},
   "outputs": [
    {
     "data": {
      "text/plain": [
       "'c:\\\\Users\\\\jhaabman\\\\OneDrive - Tietoevry\\\\Desktop\\\\ML_TEST\\\\ml-housing\\\\notebook'"
      ]
     },
     "execution_count": 7,
     "metadata": {},
     "output_type": "execute_result"
    }
   ],
   "source": [
    "os.getcwd()"
   ]
  },
  {
   "cell_type": "code",
   "execution_count": 8,
   "metadata": {},
   "outputs": [],
   "source": [
    "os.chdir(\"c:\\\\Users\\\\jhaabman\\\\OneDrive - Tietoevry\\\\Desktop\\\\ML_TEST\\\\ml-housing\")"
   ]
  },
  {
   "cell_type": "code",
   "execution_count": 9,
   "metadata": {},
   "outputs": [
    {
     "data": {
      "text/plain": [
       "'c:\\\\Users\\\\jhaabman\\\\OneDrive - Tietoevry\\\\Desktop\\\\ML_TEST\\\\ml-housing'"
      ]
     },
     "execution_count": 9,
     "metadata": {},
     "output_type": "execute_result"
    }
   ],
   "source": [
    "os.getcwd()"
   ]
  },
  {
   "cell_type": "code",
   "execution_count": 10,
   "metadata": {},
   "outputs": [
    {
     "data": {
      "text/plain": [
       "['.dockerignore',\n",
       " '.git',\n",
       " '.gitignore',\n",
       " 'app.py',\n",
       " 'build',\n",
       " 'config',\n",
       " 'demo.py',\n",
       " 'dist',\n",
       " 'Dockerfile',\n",
       " 'housing',\n",
       " 'housing_logs',\n",
       " 'housing_predictor.egg-info',\n",
       " 'LICENSE',\n",
       " 'notebook',\n",
       " 'README.md',\n",
       " 'requirements.txt',\n",
       " 'setup.py',\n",
       " 'venv']"
      ]
     },
     "execution_count": 10,
     "metadata": {},
     "output_type": "execute_result"
    }
   ],
   "source": [
    "os.listdir(\".\")"
   ]
  },
  {
   "cell_type": "code",
   "execution_count": 11,
   "metadata": {},
   "outputs": [],
   "source": [
    "config_file_path=\"config/config.yaml\""
   ]
  },
  {
   "cell_type": "code",
   "execution_count": 12,
   "metadata": {},
   "outputs": [
    {
     "data": {
      "text/plain": [
       "'config/config.yaml'"
      ]
     },
     "execution_count": 12,
     "metadata": {},
     "output_type": "execute_result"
    }
   ],
   "source": [
    "config_file_path"
   ]
  },
  {
   "cell_type": "code",
   "execution_count": 13,
   "metadata": {},
   "outputs": [],
   "source": [
    "config_file_path=os.path.join(\"config\",\"config.yaml\")"
   ]
  },
  {
   "cell_type": "code",
   "execution_count": 14,
   "metadata": {},
   "outputs": [
    {
     "data": {
      "text/plain": [
       "'config\\\\config.yaml'"
      ]
     },
     "execution_count": 14,
     "metadata": {},
     "output_type": "execute_result"
    }
   ],
   "source": [
    "config_file_path"
   ]
  },
  {
   "cell_type": "code",
   "execution_count": 15,
   "metadata": {},
   "outputs": [
    {
     "data": {
      "text/plain": [
       "True"
      ]
     },
     "execution_count": 15,
     "metadata": {},
     "output_type": "execute_result"
    }
   ],
   "source": [
    "os.path.exists(config_file_path)"
   ]
  },
  {
   "cell_type": "code",
   "execution_count": 16,
   "metadata": {},
   "outputs": [
    {
     "data": {
      "text/plain": [
       "'c:\\\\Users\\\\jhaabman\\\\OneDrive - Tietoevry\\\\Desktop\\\\ML_TEST\\\\ml-housing'"
      ]
     },
     "execution_count": 16,
     "metadata": {},
     "output_type": "execute_result"
    }
   ],
   "source": [
    "os.getcwd()"
   ]
  },
  {
   "cell_type": "code",
   "execution_count": 17,
   "metadata": {},
   "outputs": [],
   "source": [
    "import yaml"
   ]
  },
  {
   "cell_type": "code",
   "execution_count": 18,
   "metadata": {},
   "outputs": [],
   "source": [
    "config_info=None\n",
    "with open(config_file_path,\"rb\") as yaml_file:\n",
    "    config_info=yaml.safe_load(yaml_file)"
   ]
  },
  {
   "cell_type": "code",
   "execution_count": 19,
   "metadata": {},
   "outputs": [
    {
     "data": {
      "text/plain": [
       "{'dataset_download_url': 'https://raw.githubusercontent.com/ageron/handson-ml/master/datasets/housing/housing.tgz',\n",
       " 'raw_data_dir': 'raw_data',\n",
       " 'tgz_download_dir': 'tgz_data',\n",
       " 'ingested_dir': 'ingested_data',\n",
       " 'ingested_train_dir': 'train',\n",
       " 'ingested_test_dir': 'test'}"
      ]
     },
     "execution_count": 19,
     "metadata": {},
     "output_type": "execute_result"
    }
   ],
   "source": [
    "config_info[\"data_ingestion_config\"]"
   ]
  },
  {
   "cell_type": "code",
   "execution_count": 20,
   "metadata": {},
   "outputs": [],
   "source": [
    "config_info[\"training_pipeline_config\"]\n",
    "from housing.exception import HousingException\n",
    "import sys"
   ]
  },
  {
   "cell_type": "code",
   "execution_count": 21,
   "metadata": {},
   "outputs": [],
   "source": [
    "def read_yaml_file(file_path:str)->dict:\n",
    "    \"\"\"\n",
    "    Reads a YAML file and returns the contents as a dictionary.\n",
    "    file_path: str\n",
    "    \"\"\"\n",
    "    try:\n",
    "        with open(file_path, 'rb') as yaml_file:\n",
    "            return yaml.safe_load(yaml_file)\n",
    "    except Exception as e:\n",
    "        raise HousingException(e,sys) from e"
   ]
  },
  {
   "cell_type": "code",
   "execution_count": 22,
   "metadata": {},
   "outputs": [
    {
     "data": {
      "text/plain": [
       "{'training_pipeline_config': {'pipeline_name': 'housing',\n",
       "  'artifact_dir': 'artifact'},\n",
       " 'data_ingestion_config': {'dataset_download_url': 'https://raw.githubusercontent.com/ageron/handson-ml/master/datasets/housing/housing.tgz',\n",
       "  'raw_data_dir': 'raw_data',\n",
       "  'tgz_download_dir': 'tgz_data',\n",
       "  'ingested_dir': 'ingested_data',\n",
       "  'ingested_train_dir': 'train',\n",
       "  'ingested_test_dir': 'test'},\n",
       " 'data_validation_config': {'schema_dir': 'config',\n",
       "  'schema_file_name': 'schema.yaml',\n",
       "  'report_file_name': 'report.json',\n",
       "  'report_page_file_name': 'report.html'},\n",
       " 'data_transformation_config': {'add_bedroom_per_room': True,\n",
       "  'transformed_dir': 'transformed_data',\n",
       "  'transformed_train_dir': 'train',\n",
       "  'transformed_test_dir': 'test',\n",
       "  'preprocessing_dir': 'preprocessed',\n",
       "  'preprocessed_object_file_name': 'preprocessed.pkl'},\n",
       " 'model_trainer_config': {'trained_model_dir': 'trained_model',\n",
       "  'model_file_name': 'model.pkl',\n",
       "  'base_accuracy': 0.6,\n",
       "  'model_config_dir': 'config',\n",
       "  'model_config_file_name': 'model.yaml'},\n",
       " 'model_evaluation_config': {'model_evaluation_file_name': 'model_evaluation.yaml'},\n",
       " 'model_pusher_config': {'model_export_dir': 'saved_models'}}"
      ]
     },
     "execution_count": 22,
     "metadata": {},
     "output_type": "execute_result"
    }
   ],
   "source": [
    "read_yaml_file(config_file_path)"
   ]
  },
  {
   "cell_type": "code",
   "execution_count": 23,
   "metadata": {},
   "outputs": [],
   "source": [
    "from housing.constant import *"
   ]
  },
  {
   "cell_type": "code",
   "execution_count": 24,
   "metadata": {},
   "outputs": [],
   "source": [
    "ROOT_DIR = os.getcwd()  #to get current working directory\n",
    "CONFIG_DIR = \"config\"\n",
    "CONFIG_FILE_NAME = \"config.yaml\"\n",
    "CONFIG_FILE_PATH = os.path.join(ROOT_DIR,CONFIG_DIR,CONFIG_FILE_NAME)"
   ]
  },
  {
   "cell_type": "code",
   "execution_count": 25,
   "metadata": {},
   "outputs": [
    {
     "data": {
      "text/plain": [
       "'c:\\\\Users\\\\jhaabman\\\\OneDrive - Tietoevry\\\\Desktop\\\\ML_TEST\\\\ml-housing\\\\config\\\\config.yaml'"
      ]
     },
     "execution_count": 25,
     "metadata": {},
     "output_type": "execute_result"
    }
   ],
   "source": [
    "CONFIG_FILE_PATH"
   ]
  },
  {
   "cell_type": "code",
   "execution_count": 26,
   "metadata": {},
   "outputs": [
    {
     "data": {
      "text/plain": [
       "'c:\\\\Users\\\\jhaabman\\\\OneDrive - Tietoevry\\\\Desktop\\\\ML_TEST\\\\ml-housing'"
      ]
     },
     "execution_count": 26,
     "metadata": {},
     "output_type": "execute_result"
    }
   ],
   "source": [
    "ROOT_DIR"
   ]
  },
  {
   "cell_type": "code",
   "execution_count": 27,
   "metadata": {},
   "outputs": [],
   "source": [
    "config=read_yaml_file(config_file_path)"
   ]
  },
  {
   "cell_type": "code",
   "execution_count": 28,
   "metadata": {},
   "outputs": [
    {
     "data": {
      "text/plain": [
       "'housing'"
      ]
     },
     "execution_count": 28,
     "metadata": {},
     "output_type": "execute_result"
    }
   ],
   "source": [
    "config[TRAINING_PIPELINE_CONFIG_KEY][TRAINING_PIPELINE_NAME_KEY]"
   ]
  },
  {
   "cell_type": "code",
   "execution_count": 29,
   "metadata": {},
   "outputs": [
    {
     "data": {
      "text/plain": [
       "'training_pipeline_config'"
      ]
     },
     "execution_count": 29,
     "metadata": {},
     "output_type": "execute_result"
    }
   ],
   "source": [
    "TRAINING_PIPELINE_CONFIG_KEY"
   ]
  },
  {
   "cell_type": "code",
   "execution_count": 30,
   "metadata": {},
   "outputs": [],
   "source": [
    "training_pipeline_config = config_info[TRAINING_PIPELINE_CONFIG_KEY]\n",
    "artifact_dir=os.path.join(ROOT_DIR,\n",
    "training_pipeline_config[TRAINING_PIPELINE_NAME_KEY],\n",
    "training_pipeline_config[TRAINING_PIPELINE_ARTIFACT_DIR_KEY])"
   ]
  },
  {
   "cell_type": "code",
   "execution_count": 31,
   "metadata": {},
   "outputs": [
    {
     "data": {
      "text/plain": [
       "'c:\\\\Users\\\\jhaabman\\\\OneDrive - Tietoevry\\\\Desktop\\\\ML_TEST\\\\ml-housing\\\\housing\\\\artifact'"
      ]
     },
     "execution_count": 31,
     "metadata": {},
     "output_type": "execute_result"
    }
   ],
   "source": [
    "artifact_dir"
   ]
  },
  {
   "cell_type": "code",
   "execution_count": 32,
   "metadata": {},
   "outputs": [
    {
     "data": {
      "text/plain": [
       "{'pipeline_name': 'housing', 'artifact_dir': 'artifact'}"
      ]
     },
     "execution_count": 32,
     "metadata": {},
     "output_type": "execute_result"
    }
   ],
   "source": [
    "training_pipeline_config"
   ]
  },
  {
   "cell_type": "code",
   "execution_count": 33,
   "metadata": {},
   "outputs": [],
   "source": [
    "from housing.config.configuration import Configuration"
   ]
  },
  {
   "cell_type": "code",
   "execution_count": 34,
   "metadata": {},
   "outputs": [],
   "source": [
    "config=Configuration()"
   ]
  },
  {
   "cell_type": "code",
   "execution_count": 35,
   "metadata": {},
   "outputs": [
    {
     "data": {
      "text/plain": [
       "TrainingPipelineConfig(artifact_dir='c:\\\\Users\\\\jhaabman\\\\OneDrive - Tietoevry\\\\Desktop\\\\ML_TEST\\\\ml-housing\\\\housing\\\\artifact')"
      ]
     },
     "execution_count": 35,
     "metadata": {},
     "output_type": "execute_result"
    }
   ],
   "source": [
    "config.get_training_pipeline_config()"
   ]
  },
  {
   "cell_type": "code",
   "execution_count": 36,
   "metadata": {},
   "outputs": [],
   "source": [
    "data_ingestion_config = config_info[DATA_INGESTION_CONFIG_KEY]"
   ]
  },
  {
   "cell_type": "code",
   "execution_count": 37,
   "metadata": {},
   "outputs": [],
   "source": [
    "data_validation_config=config_info[DATA_VALIDATION_CONFIG_KEY]"
   ]
  },
  {
   "cell_type": "code",
   "execution_count": 38,
   "metadata": {},
   "outputs": [
    {
     "data": {
      "text/plain": [
       "{'schema_dir': 'config',\n",
       " 'schema_file_name': 'schema.yaml',\n",
       " 'report_file_name': 'report.json',\n",
       " 'report_page_file_name': 'report.html'}"
      ]
     },
     "execution_count": 38,
     "metadata": {},
     "output_type": "execute_result"
    }
   ],
   "source": [
    "data_validation_config"
   ]
  },
  {
   "cell_type": "code",
   "execution_count": 39,
   "metadata": {},
   "outputs": [
    {
     "data": {
      "text/plain": [
       "'config'"
      ]
     },
     "execution_count": 39,
     "metadata": {},
     "output_type": "execute_result"
    }
   ],
   "source": [
    "data_validation_config[DATA_VALIDATION_SCHEMA_DIR_KEY]"
   ]
  },
  {
   "cell_type": "code",
   "execution_count": 40,
   "metadata": {},
   "outputs": [
    {
     "data": {
      "text/plain": [
       "'schema.yaml'"
      ]
     },
     "execution_count": 40,
     "metadata": {},
     "output_type": "execute_result"
    }
   ],
   "source": [
    "data_validation_config[DATA_VALIDATION_SCHEMA_FILE_NAME_KEY]"
   ]
  },
  {
   "cell_type": "code",
   "execution_count": 41,
   "metadata": {},
   "outputs": [
    {
     "data": {
      "text/plain": [
       "'report.json'"
      ]
     },
     "execution_count": 41,
     "metadata": {},
     "output_type": "execute_result"
    }
   ],
   "source": [
    "data_validation_config[DATA_VALIDATION_REPORT_FILE_NAME_KEY]"
   ]
  },
  {
   "cell_type": "code",
   "execution_count": 42,
   "metadata": {},
   "outputs": [],
   "source": [
    "import os"
   ]
  },
  {
   "cell_type": "code",
   "execution_count": 43,
   "metadata": {},
   "outputs": [],
   "source": [
    " data_validation_artifact_dir=os.path.join(\n",
    "                artifact_dir,\n",
    "                DATA_VALIDATION_ARTIFACT_DIR_NAME,\n",
    "                CURRENT_TIME_STAMP\n",
    "            )"
   ]
  },
  {
   "cell_type": "code",
   "execution_count": 44,
   "metadata": {},
   "outputs": [
    {
     "data": {
      "text/plain": [
       "'c:\\\\Users\\\\jhaabman\\\\OneDrive - Tietoevry\\\\Desktop\\\\ML_TEST\\\\ml-housing\\\\housing\\\\artifact\\\\data_validation\\\\2023-05-29-19-08-26'"
      ]
     },
     "execution_count": 44,
     "metadata": {},
     "output_type": "execute_result"
    }
   ],
   "source": [
    "data_validation_artifact_dir"
   ]
  },
  {
   "cell_type": "code",
   "execution_count": 45,
   "metadata": {},
   "outputs": [],
   "source": [
    "schema_file_path=os.path.join(ROOT_DIR,\n",
    "                                          data_validation_config[DATA_VALIDATION_SCHEMA_DIR_KEY],\n",
    "                                          data_validation_config[DATA_VALIDATION_SCHEMA_FILE_NAME_KEY])"
   ]
  },
  {
   "cell_type": "code",
   "execution_count": 46,
   "metadata": {},
   "outputs": [
    {
     "data": {
      "text/plain": [
       "'c:\\\\Users\\\\jhaabman\\\\OneDrive - Tietoevry\\\\Desktop\\\\ML_TEST\\\\ml-housing\\\\config\\\\schema.yaml'"
      ]
     },
     "execution_count": 46,
     "metadata": {},
     "output_type": "execute_result"
    }
   ],
   "source": [
    "schema_file_path"
   ]
  },
  {
   "cell_type": "code",
   "execution_count": 54,
   "metadata": {},
   "outputs": [],
   "source": [
    " data_transformation_artifact_dir=os.path.join(\n",
    "                artifact_dir,\n",
    "                DATA_TRANSFORMATION_ARTIFACT_DIR,\n",
    "                CURRENT_TIME_STAMP\n",
    "                \n",
    "            )"
   ]
  },
  {
   "cell_type": "code",
   "execution_count": 55,
   "metadata": {},
   "outputs": [
    {
     "data": {
      "text/plain": [
       "'c:\\\\Users\\\\jhaabman\\\\OneDrive - Tietoevry\\\\Desktop\\\\ML_TEST\\\\ml-housing\\\\housing\\\\artifact\\\\data_transformation\\\\2023-05-29-19-08-26'"
      ]
     },
     "execution_count": 55,
     "metadata": {},
     "output_type": "execute_result"
    }
   ],
   "source": [
    "data_transformation_artifact_dir"
   ]
  },
  {
   "cell_type": "code",
   "execution_count": 56,
   "metadata": {},
   "outputs": [],
   "source": [
    "  data_transformation_config_info=config_info[DATA_TRANSFORMATION_CONFIG_KEY]"
   ]
  },
  {
   "cell_type": "code",
   "execution_count": 57,
   "metadata": {},
   "outputs": [],
   "source": [
    "preprocessed_object_file_path=os.path.join(data_transformation_artifact_dir,\n",
    "                                                       data_transformation_config_info[DATA_TRANSFORMATION_PREPROCESSING_DIR_KEY],\n",
    "                                                       data_transformation_config_info[DATA_TRANSFORMATION_PREPROCESSED_FILE_NAME_KEY]\n",
    "                                                       )"
   ]
  },
  {
   "cell_type": "code",
   "execution_count": 58,
   "metadata": {},
   "outputs": [
    {
     "data": {
      "text/plain": [
       "'c:\\\\Users\\\\jhaabman\\\\OneDrive - Tietoevry\\\\Desktop\\\\ML_TEST\\\\ml-housing\\\\housing\\\\artifact\\\\data_transformation\\\\2023-05-29-19-08-26\\\\preprocessed\\\\preprocessed.pkl'"
      ]
     },
     "execution_count": 58,
     "metadata": {},
     "output_type": "execute_result"
    }
   ],
   "source": [
    "preprocessed_object_file_path"
   ]
  },
  {
   "cell_type": "code",
   "execution_count": 59,
   "metadata": {},
   "outputs": [],
   "source": [
    "transformed_train_dir=os.path.join(data_transformation_artifact_dir,\n",
    "                                               data_transformation_config_info[DATA_TRANSFORMATION_DIR_NAME_KEY],\n",
    "                                               data_transformation_config_info[DATA_TRANSFORMATION_TRAIN_DIR_NAME_KEY])"
   ]
  },
  {
   "cell_type": "code",
   "execution_count": 60,
   "metadata": {},
   "outputs": [
    {
     "data": {
      "text/plain": [
       "'c:\\\\Users\\\\jhaabman\\\\OneDrive - Tietoevry\\\\Desktop\\\\ML_TEST\\\\ml-housing\\\\housing\\\\artifact\\\\data_transformation\\\\2023-05-29-19-08-26\\\\transformed_data\\\\train'"
      ]
     },
     "execution_count": 60,
     "metadata": {},
     "output_type": "execute_result"
    }
   ],
   "source": [
    "transformed_train_dir"
   ]
  },
  {
   "cell_type": "code",
   "execution_count": 48,
   "metadata": {},
   "outputs": [
    {
     "data": {
      "text/plain": [
       "{'dataset_download_url': 'https://raw.githubusercontent.com/ageron/handson-ml/master/datasets/housing/housing.tgz',\n",
       " 'raw_data_dir': 'raw_data',\n",
       " 'tgz_download_dir': 'tgz_data',\n",
       " 'ingested_dir': 'ingested_data',\n",
       " 'ingested_train_dir': 'train',\n",
       " 'ingested_test_dir': 'test'}"
      ]
     },
     "execution_count": 48,
     "metadata": {},
     "output_type": "execute_result"
    }
   ],
   "source": [
    "data_ingestion_config"
   ]
  },
  {
   "cell_type": "code",
   "execution_count": null,
   "metadata": {},
   "outputs": [],
   "source": []
  },
  {
   "cell_type": "code",
   "execution_count": 49,
   "metadata": {},
   "outputs": [
    {
     "data": {
      "text/plain": [
       "{'dataset_download_url': 'https://raw.githubusercontent.com/ageron/handson-ml/master/datasets/housing/housing.tgz',\n",
       " 'raw_data_dir': 'raw_data',\n",
       " 'tgz_download_dir': 'tgz_data',\n",
       " 'ingested_dir': 'ingested_data',\n",
       " 'ingested_train_dir': 'train',\n",
       " 'ingested_test_dir': 'test'}"
      ]
     },
     "execution_count": 49,
     "metadata": {},
     "output_type": "execute_result"
    }
   ],
   "source": [
    "data_ingestion_config"
   ]
  },
  {
   "cell_type": "code",
   "execution_count": 50,
   "metadata": {},
   "outputs": [
    {
     "data": {
      "text/plain": [
       "'https://raw.githubusercontent.com/ageron/handson-ml/master/datasets/housing/housing.tgz'"
      ]
     },
     "execution_count": 50,
     "metadata": {},
     "output_type": "execute_result"
    }
   ],
   "source": [
    "data_ingestion_config[DATA_INGESTION_DOWNLOAD_URL_KEY]"
   ]
  },
  {
   "cell_type": "code",
   "execution_count": 51,
   "metadata": {},
   "outputs": [
    {
     "data": {
      "text/plain": [
       "DataIngestionConfig(dataset_download_url='https://raw.githubusercontent.com/ageron/handson-ml/master/datasets/housing/housing.tgz', tgz_download_dir='c:\\\\Users\\\\jhaabman\\\\OneDrive - Tietoevry\\\\Desktop\\\\ML_TEST\\\\ml-housing\\\\housing\\\\artifact\\\\data_ingestion\\\\2023-05-29-19-08-26\\\\tgz_data', raw_data_dir='c:\\\\Users\\\\jhaabman\\\\OneDrive - Tietoevry\\\\Desktop\\\\ML_TEST\\\\ml-housing\\\\housing\\\\artifact\\\\data_ingestion\\\\2023-05-29-19-08-26\\\\raw_data', ingested_train_dir='c:\\\\Users\\\\jhaabman\\\\OneDrive - Tietoevry\\\\Desktop\\\\ML_TEST\\\\ml-housing\\\\housing\\\\artifact\\\\data_ingestion\\\\2023-05-29-19-08-26\\\\ingested_data\\\\train', ingested_test_dir='c:\\\\Users\\\\jhaabman\\\\OneDrive - Tietoevry\\\\Desktop\\\\ML_TEST\\\\ml-housing\\\\housing\\\\artifact\\\\data_ingestion\\\\2023-05-29-19-08-26\\\\ingested_data\\\\test')"
      ]
     },
     "execution_count": 51,
     "metadata": {},
     "output_type": "execute_result"
    }
   ],
   "source": [
    "config.get_data_ingestion_config()"
   ]
  },
  {
   "cell_type": "code",
   "execution_count": 52,
   "metadata": {},
   "outputs": [
    {
     "data": {
      "text/plain": [
       "'2023-05-29-19-08-26'"
      ]
     },
     "execution_count": 52,
     "metadata": {},
     "output_type": "execute_result"
    }
   ],
   "source": [
    "CURRENT_TIME_STAMP"
   ]
  },
  {
   "cell_type": "code",
   "execution_count": null,
   "metadata": {},
   "outputs": [],
   "source": []
  }
 ],
 "metadata": {
  "kernelspec": {
   "display_name": "Python 3",
   "language": "python",
   "name": "python3"
  },
  "language_info": {
   "codemirror_mode": {
    "name": "ipython",
    "version": 3
   },
   "file_extension": ".py",
   "mimetype": "text/x-python",
   "name": "python",
   "nbconvert_exporter": "python",
   "pygments_lexer": "ipython3",
   "version": "3.10.9"
  },
  "orig_nbformat": 4
 },
 "nbformat": 4,
 "nbformat_minor": 2
}
